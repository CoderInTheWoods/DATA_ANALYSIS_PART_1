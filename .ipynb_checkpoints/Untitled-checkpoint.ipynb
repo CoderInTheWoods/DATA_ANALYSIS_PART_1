{
 "cells": [
  {
   "cell_type": "markdown",
   "metadata": {},
   "source": [
    "# Domain & Data Description\n",
    "\n",
    "\n"
   ]
  },
  {
   "cell_type": "markdown",
   "metadata": {},
   "source": [
    "<ol>\n",
    "    <li><b>DOMAIN NAME</b><br>Science and Technology in India</li><br>\n",
    "    <li><b>DESCRIPTION</b><br>Technological innovation, often fueled by governments, drives industrial growth and helps raise living standards. Data here aims to shed light on countries technology base: research and development, scientific and technical journal articles, high-technology exports, royalty and license fees, and patents and trademarks.</li><br>\n",
    "    <li><b>SOURCE</b><br>Sources include the UNESCO Institute for Statistics, the U.S. National Science Board, the UN Statistics Division, the International Monetary Fund, and the World Intellectual Property Organization. Indicators: Charges for the use of intellectual property, High-technology exports, Patent applications, Research and development expenditure, Researchers in R&D, Scientific and technical journal articles, Technicians in R&D, Trademark applications\n",
    "      <ul>\n",
    "      <li>Charges for Use of IP (Payments and Receipts)</li>\n",
    "      <li>Research and Development Expenditure</li>\n",
    "      <li>No. Of Scientific and Technical Journal Articles</li>\n",
    "      <li>No. Patent Applications (By Residents and Non-Residents)</li>\n",
    "      <li>No. Of Trademark Applications (By Direct Resident and Direct Non-Residents)</li>\n",
    "      <li>No. Of Researchers in Researhc and Development</li>\n",
    "      <li>No. Of Technicians in Research and Development</li>\n",
    "      <li>Value of High-Technology Exports</li>\n",
    "      </ul>\n",
    "  </li>\n",
    "\n",
    "</ol>\n"
   ]
  },
  {
   "cell_type": "code",
   "execution_count": null,
   "metadata": {},
   "outputs": [],
   "source": [
    "import pandas as pf\n",
    "\n",
    "df = pd.read_csv(\"\")"
   ]
  }
 ],
 "metadata": {
  "kernelspec": {
   "display_name": "Python 3",
   "language": "python",
   "name": "python3"
  },
  "language_info": {
   "codemirror_mode": {
    "name": "ipython",
    "version": 3
   },
   "file_extension": ".py",
   "mimetype": "text/x-python",
   "name": "python",
   "nbconvert_exporter": "python",
   "pygments_lexer": "ipython3",
   "version": "3.8.3"
  }
 },
 "nbformat": 4,
 "nbformat_minor": 4
}
